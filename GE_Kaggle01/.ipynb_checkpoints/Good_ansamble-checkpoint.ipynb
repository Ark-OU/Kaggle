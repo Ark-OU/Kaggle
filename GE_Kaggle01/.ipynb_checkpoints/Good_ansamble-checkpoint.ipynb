{
 "cells": [
  {
   "cell_type": "code",
   "execution_count": 3,
   "metadata": {},
   "outputs": [],
   "source": [
    "import numpy as np\n",
    "import pandas as pd\n",
    "first = pd.read_csv(\"DBH_SGDR1.csv\")\n",
    "second = pd.read_csv(\"DBH_SGDR2.csv\")\n",
    "ans = pd.DataFrame()\n",
    "ans[\"id\"] = first[\"Id\"]\n",
    "ans[\"DBH\"] = (first[\"dbh\"]+second[\"dbh\"])/2\n",
    "ans.to_csv(\"Good_ansamble.csv\", index=False)"
   ]
  },
  {
   "cell_type": "code",
   "execution_count": null,
   "metadata": {},
   "outputs": [],
   "source": []
  }
 ],
 "metadata": {
  "kernelspec": {
   "display_name": "Python 3",
   "language": "python",
   "name": "python3"
  },
  "language_info": {
   "codemirror_mode": {
    "name": "ipython",
    "version": 3
   },
   "file_extension": ".py",
   "mimetype": "text/x-python",
   "name": "python",
   "nbconvert_exporter": "python",
   "pygments_lexer": "ipython3",
   "version": "3.7.5"
  }
 },
 "nbformat": 4,
 "nbformat_minor": 4
}
