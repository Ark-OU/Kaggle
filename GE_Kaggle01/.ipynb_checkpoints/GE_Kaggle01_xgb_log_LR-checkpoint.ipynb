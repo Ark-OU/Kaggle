{
 "cells": [
  {
   "cell_type": "code",
   "execution_count": 1,
   "metadata": {},
   "outputs": [],
   "source": [
    "from jupyterthemes import jtplot\n",
    "jtplot.style(theme='monokai') \n",
    "import gdal\n",
    "import numpy as np\n",
    "import re\n",
    "import os, io, re\n",
    "\n",
    "# import image\n",
    "train_path = './train_crowns/train_crowns/'\n",
    "test_path = \"./test_crowns/\"\n",
    "# filename を全て入れる\n",
    "train_files = []\n",
    "test_files = []\n",
    "for filename in os.listdir(train_path):\n",
    "    if os.path.isfile(os.path.join(train_path, filename)):\n",
    "        train_files.append(filename)\n",
    "for filename in os.listdir(test_path):\n",
    "    if os.path.isfile(os.path.join(test_path, filename)):\n",
    "        test_files.append(filename)\n",
    "\n",
    "# .tifのファイルを選んで入れる\n",
    "train_img = []\n",
    "test_img= []\n",
    "for name in train_files:\n",
    "    if re.search(r\"(.tif)$\", name):\n",
    "        train_img.append(name)\n",
    "for name in test_files:\n",
    "    if re.search(r\"(.tif)$\", name):\n",
    "        test_img.append(name)\n",
    "# print(img_files)"
   ]
  },
  {
   "cell_type": "code",
   "execution_count": 2,
   "metadata": {
    "scrolled": true
   },
   "outputs": [],
   "source": [
    "train_height = []\n",
    "train_DBH = []\n",
    "train_index = []\n",
    "test_height = []\n",
    "test_index = []\n",
    "train_area = []\n",
    "test_area = []\n",
    "\n",
    "for imgfile in train_files:\n",
    "    image = gdal.Open(\"C:/Users/owner/Kaggle/GE_Kaggle01/train_crowns/train_crowns/\"+imgfile, gdal.GA_ReadOnly)\n",
    "    a = np.array([image.GetRasterBand(i + 1).ReadAsArray() for i in range(image.RasterCount)])\n",
    "    train_height.append(a[0<a].mean())\n",
    "    train_area.append((a[0<a].sum()/a[0<a].mean()).round())\n",
    "#     print(train_area)\n",
    "#     print(a[a>0].mean())\n",
    "    file = os.path.splitext(imgfile)[0]\n",
    "    file_split = [i for i in file.split(\"_\")]\n",
    "    train_index.append(file_split[0])\n",
    "    train_DBH.append(float(file_split[3]))\n",
    "#     print(float(file_split[3]))\n",
    "    \n",
    "for imgfile in test_files:\n",
    "    image = gdal.Open(\"C:/Users/owner/Kaggle/GE_Kaggle01/test_crowns/\"+imgfile, gdal.GA_ReadOnly)\n",
    "    a = np.array([image.GetRasterBand(i + 1).ReadAsArray() for i in range(image.RasterCount)])\n",
    "    test_height.append(a[a>0].mean())\n",
    "    test_area.append((a[0<a].sum()/a[0<a].mean()).round())\n",
    "#     print(test_area)\n",
    "#     print(a[a>0].mean())\n",
    "    file = os.path.basename(imgfile)\n",
    "    file_split = [i for i in file.split(\"_\")]\n",
    "    test_index.append(file_split[0])\n",
    "#     print(file_split[0])"
   ]
  },
  {
   "cell_type": "code",
   "execution_count": 24,
   "metadata": {},
   "outputs": [],
   "source": [
    "import pandas as pd\n",
    "index = pd.Index(train_index)\n",
    "d = {\"Height\": train_height}\n",
    "train = pd.DataFrame(data=d, index=index)\n",
    "# print(train)\n",
    "target = pd.DataFrame({\"DBH\": train_DBH}, index=index)\n",
    "# print(target)\n",
    "test = pd.DataFrame(data={\"Height\": test_height}, index=pd.Index(test_index))"
   ]
  },
  {
   "cell_type": "code",
   "execution_count": 25,
   "metadata": {},
   "outputs": [
    {
     "data": {
      "image/png": "[encoded data removed]",
      "text/plain": [
       "<Figure size 432x288 with 1 Axes>"
      ]
     },
     "metadata": {},
     "output_type": "display_data"
    }
   ],
   "source": [
    "data = pd.DataFrame({\"Height\": train_height, \"DBH\": train_DBH}, index=index)\n",
    "# print(tmp)\n",
    "import matplotlib.pyplot as plt\n",
    "fig = plt.figure()\n",
    "\n",
    "import matplotlib.pyplot as plt\n",
    "x = data[\"DBH\"]\n",
    "y = data[\"Height\"]\n",
    "plt.scatter(x,y)\n",
    "plt.xlabel(\"DBH [cm]\")\n",
    "plt.ylabel(\"Height [m]\")\n",
    "plt.axis([0,70,0,70])\n",
    "plt.show()"
   ]
  },
  {
   "cell_type": "code",
   "execution_count": 26,
   "metadata": {},
   "outputs": [],
   "source": [
    "from sklearn.model_selection import LeaveOneOut\n",
    "from sklearn.linear_model import LogisticRegression\n",
    "lr = LogisticRegression()\n",
    "loo = LeaveOneOut()\n",
    "prediction = []\n",
    "X = train[\"Height\"]\n",
    "Y = target[\"DBH\"]"
   ]
  },
  {
   "cell_type": "code",
   "execution_count": null,
   "metadata": {},
   "outputs": [],
   "source": [
    "# for X_index, Y_index in loo.split(train):\n",
    "#     X_train, X_target = np.log(X[X_index]), np.log(Y[X_index])\n",
    "#     Y_train, Y_target = np.log(X[Y_index]), np.log(Y[Y_index])"
   ]
  },
  {
   "cell_type": "code",
   "execution_count": 39,
   "metadata": {},
   "outputs": [
    {
     "ename": "IndexError",
     "evalue": "arrays used as indices must be of integer (or boolean) type",
     "output_type": "error",
     "traceback": [
      "\u001b[1;31m---------------------------------------------------------------------------\u001b[0m",
      "\u001b[1;31mIndexError\u001b[0m                                Traceback (most recent call last)",
      "\u001b[1;32m<ipython-input-39-fade19c2b852>\u001b[0m in \u001b[0;36m<module>\u001b[1;34m\u001b[0m\n\u001b[0;32m      2\u001b[0m \u001b[1;32mfrom\u001b[0m \u001b[0msklearn\u001b[0m\u001b[1;33m.\u001b[0m\u001b[0mpreprocessing\u001b[0m \u001b[1;32mimport\u001b[0m \u001b[0mStandardScaler\u001b[0m\u001b[1;33m\u001b[0m\u001b[1;33m\u001b[0m\u001b[0m\n\u001b[0;32m      3\u001b[0m \u001b[0mX_train\u001b[0m\u001b[1;33m,\u001b[0m \u001b[0mY_train\u001b[0m \u001b[1;33m=\u001b[0m \u001b[0mtrain_test_split\u001b[0m\u001b[1;33m(\u001b[0m\u001b[0mX\u001b[0m\u001b[1;33m)\u001b[0m\u001b[1;33m\u001b[0m\u001b[1;33m\u001b[0m\u001b[0m\n\u001b[1;32m----> 4\u001b[1;33m \u001b[0mxtr\u001b[0m\u001b[1;33m,\u001b[0m\u001b[0mxvl\u001b[0m \u001b[1;33m=\u001b[0m \u001b[0mX\u001b[0m\u001b[1;33m[\u001b[0m\u001b[0mX_train\u001b[0m\u001b[1;33m]\u001b[0m\u001b[1;33m,\u001b[0m \u001b[0mX\u001b[0m\u001b[1;33m.\u001b[0m\u001b[0mloc\u001b[0m\u001b[1;33m[\u001b[0m\u001b[0mY_train\u001b[0m\u001b[1;33m]\u001b[0m\u001b[1;33m\u001b[0m\u001b[1;33m\u001b[0m\u001b[0m\n\u001b[0m\u001b[0;32m      5\u001b[0m \u001b[1;33m\u001b[0m\u001b[0m\n\u001b[0;32m      6\u001b[0m \u001b[1;31m#     dtrain = pd.DataFrame(X_train, index=X_target)\u001b[0m\u001b[1;33m\u001b[0m\u001b[1;33m\u001b[0m\u001b[1;33m\u001b[0m\u001b[0m\n",
      "\u001b[1;31mIndexError\u001b[0m: arrays used as indices must be of integer (or boolean) type"
     ]
    }
   ],
   "source": [
    "from sklearn.model_selection import train_test_split\n",
    "from sklearn.preprocessing import StandardScaler\n",
    "X_train, Y_train = train_test_split(X)\n",
    "xtr,xvl = X[X_train], X.loc[Y_train]\n",
    "    \n",
    "#     dtrain = pd.DataFrame(X_train, index=X_target)\n",
    "#     dvalid = pd.DataFrame(Y_train, index=Y_target)\n",
    "print(X_train, type(Y_target))"
   ]
  },
  {
   "cell_type": "code",
   "execution_count": 8,
   "metadata": {
    "scrolled": false
   },
   "outputs": [
    {
     "ename": "NameError",
     "evalue": "name 'evals_result' is not defined",
     "output_type": "error",
     "traceback": [
      "\u001b[1;31m---------------------------------------------------------------------------\u001b[0m",
      "\u001b[1;31mNameError\u001b[0m                                 Traceback (most recent call last)",
      "\u001b[1;32m<ipython-input-8-2f4e8ad1124e>\u001b[0m in \u001b[0;36m<module>\u001b[1;34m\u001b[0m\n\u001b[0;32m      1\u001b[0m \u001b[0mplt\u001b[0m\u001b[1;33m.\u001b[0m\u001b[0mfigure\u001b[0m\u001b[1;33m(\u001b[0m\u001b[0mfigsize\u001b[0m\u001b[1;33m=\u001b[0m\u001b[1;33m(\u001b[0m\u001b[1;36m10\u001b[0m\u001b[1;33m,\u001b[0m \u001b[1;36m5\u001b[0m\u001b[1;33m)\u001b[0m\u001b[1;33m)\u001b[0m\u001b[1;33m\u001b[0m\u001b[1;33m\u001b[0m\u001b[0m\n\u001b[1;32m----> 2\u001b[1;33m \u001b[0mtrain_metric\u001b[0m \u001b[1;33m=\u001b[0m \u001b[0mevals_result\u001b[0m\u001b[1;33m[\u001b[0m\u001b[1;34m'train'\u001b[0m\u001b[1;33m]\u001b[0m\u001b[1;33m[\u001b[0m\u001b[1;34m'rmse'\u001b[0m\u001b[1;33m]\u001b[0m\u001b[1;33m\u001b[0m\u001b[1;33m\u001b[0m\u001b[0m\n\u001b[0m\u001b[0;32m      3\u001b[0m \u001b[0mplt\u001b[0m\u001b[1;33m.\u001b[0m\u001b[0mplot\u001b[0m\u001b[1;33m(\u001b[0m\u001b[0mtrain_metric\u001b[0m\u001b[1;33m,\u001b[0m \u001b[0mlabel\u001b[0m\u001b[1;33m=\u001b[0m\u001b[1;34m'train rmse'\u001b[0m\u001b[1;33m)\u001b[0m\u001b[1;33m\u001b[0m\u001b[1;33m\u001b[0m\u001b[0m\n\u001b[0;32m      4\u001b[0m \u001b[0meval_metric\u001b[0m \u001b[1;33m=\u001b[0m \u001b[0mevals_result\u001b[0m\u001b[1;33m[\u001b[0m\u001b[1;34m'eval'\u001b[0m\u001b[1;33m]\u001b[0m\u001b[1;33m[\u001b[0m\u001b[1;34m'rmse'\u001b[0m\u001b[1;33m]\u001b[0m\u001b[1;33m\u001b[0m\u001b[1;33m\u001b[0m\u001b[0m\n\u001b[0;32m      5\u001b[0m \u001b[0mplt\u001b[0m\u001b[1;33m.\u001b[0m\u001b[0mplot\u001b[0m\u001b[1;33m(\u001b[0m\u001b[0meval_metric\u001b[0m\u001b[1;33m,\u001b[0m \u001b[0mlabel\u001b[0m\u001b[1;33m=\u001b[0m\u001b[1;34m'eval rmse'\u001b[0m\u001b[1;33m)\u001b[0m\u001b[1;33m\u001b[0m\u001b[1;33m\u001b[0m\u001b[0m\n",
      "\u001b[1;31mNameError\u001b[0m: name 'evals_result' is not defined"
     ]
    },
    {
     "data": {
      "text/plain": [
       "<Figure size 720x360 with 0 Axes>"
      ]
     },
     "metadata": {},
     "output_type": "display_data"
    }
   ],
   "source": [
    "plt.figure(figsize=(10, 5))\n",
    "train_metric = evals_result['train']['rmse']\n",
    "plt.plot(train_metric, label='train rmse')\n",
    "eval_metric = evals_result['eval']['rmse']\n",
    "plt.plot(eval_metric, label='eval rmse')\n",
    "plt.grid()\n",
    "plt.legend()\n",
    "plt.xlabel('rounds')\n",
    "plt.ylabel('rmse')\n",
    "plt.ylim(0, 5)\n",
    "plt.show()"
   ]
  },
  {
   "cell_type": "code",
   "execution_count": 82,
   "metadata": {},
   "outputs": [
    {
     "name": "stdout",
     "output_type": "stream",
     "text": [
      "1.8776040354064394\n"
     ]
    }
   ],
   "source": [
    "from sklearn.metrics import mean_squared_error\n",
    "pred = bst.predict(dvalid)\n",
    "\n",
    "rmse = np.sqrt(mean_squared_error(Y_train, pred))\n",
    "print(np.exp(rmse))"
   ]
  },
  {
   "cell_type": "code",
   "execution_count": 88,
   "metadata": {},
   "outputs": [],
   "source": [
    "ttest = ttest.drop([\"Area\"],axis=1)\n",
    "ttest = ttest.rename(columns={\"Height\": 0})\n",
    "dtest = xgb.DMatrix(np.log(ttest))\n",
    "pred = pd.DataFrame()\n",
    "pred[\"Id\"] = test_index\n",
    "ans = ((np.exp(bst.predict(dtest)))*2).round(0)/2\n",
    "pred[\"DBH\"] = ans\n",
    "pred.to_csv(\"DBH_xgb_log_loo.csv\", index=False)"
   ]
  },
  {
   "cell_type": "code",
   "execution_count": null,
   "metadata": {},
   "outputs": [],
   "source": []
  }
 ],
 "metadata": {
  "kernelspec": {
   "display_name": "Python 3",
   "language": "python",
   "name": "python3"
  },
  "language_info": {
   "codemirror_mode": {
    "name": "ipython",
    "version": 3
   },
   "file_extension": ".py",
   "mimetype": "text/x-python",
   "name": "python",
   "nbconvert_exporter": "python",
   "pygments_lexer": "ipython3",
   "version": "3.7.5"
  }
 },
 "nbformat": 4,
 "nbformat_minor": 4
}
