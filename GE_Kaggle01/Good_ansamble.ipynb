{
 "cells": [
  {
   "cell_type": "code",
   "execution_count": 6,
   "metadata": {},
   "outputs": [],
   "source": [
    "import numpy as np\n",
    "import pandas as pd\n",
    "train = pd.read_csv(\"train_origin.csv\")\n",
    "one = pd.read_csv(\"DBH_SGDR1.csv\")\n",
    "two = pd.read_csv(\"DBH_SGDR2.csv\")\n",
    "three = pd.read_csv(\"DBH_SGDR3.csv\")\n",
    "ans = pd.DataFrame()\n",
    "ans[\"id\"] = one[\"Id\"]\n",
    "ans[\"DBH\"] = ((one[\"dbh\"]+two[\"dbh\"]+three[\"dbh\"])/3).round(2)\n",
    "ans.to_csv(\"ansamble.csv\", index=False)"
   ]
  },
  {
   "cell_type": "code",
   "execution_count": null,
   "metadata": {},
   "outputs": [],
   "source": []
  }
 ],
 "metadata": {
  "kernelspec": {
   "display_name": "Python 3",
   "language": "python",
   "name": "python3"
  },
  "language_info": {
   "codemirror_mode": {
    "name": "ipython",
    "version": 3
   },
   "file_extension": ".py",
   "mimetype": "text/x-python",
   "name": "python",
   "nbconvert_exporter": "python",
   "pygments_lexer": "ipython3",
   "version": "3.7.5"
  }
 },
 "nbformat": 4,
 "nbformat_minor": 4
}
