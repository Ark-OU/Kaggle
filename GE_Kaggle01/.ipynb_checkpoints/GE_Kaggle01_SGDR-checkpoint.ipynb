{
 "cells": [
  {
   "cell_type": "code",
   "execution_count": 8,
   "metadata": {},
   "outputs": [],
   "source": [
    "from jupyterthemes import jtplot\n",
    "jtplot.style(theme='monokai') \n",
    "import numpy as np\n",
    "import pandas as pd\n",
    "from sklearn import svm"
   ]
  },
  {
   "cell_type": "code",
   "execution_count": 12,
   "metadata": {},
   "outputs": [
    {
     "name": "stdout",
     "output_type": "stream",
     "text": [
      "         train_id       max_h       min_h      mean_h        sd_h  \\\n",
      "count  100.000000  100.000000  100.000000  100.000000  100.000000   \n",
      "mean    50.500000   31.256400   13.551000   25.116951    4.080438   \n",
      "std     29.011492    6.669115    7.094876    6.062526    1.764470   \n",
      "min      1.000000   21.010000    5.100000   14.525690    0.520348   \n",
      "25%     25.750000   25.505000    8.372500   20.403993    2.917439   \n",
      "50%     50.500000   30.705000   11.980000   23.497401    3.866057   \n",
      "75%     75.250000   35.872500   16.355000   29.329508    5.200860   \n",
      "max    100.000000   47.230000   38.259998   40.867333    9.411008   \n",
      "\n",
      "              sum_h  crown_area  crown_perim  \n",
      "count    100.000000   100.00000   100.000000  \n",
      "mean    3434.404894    22.13120    25.992000  \n",
      "std     2177.420502    12.88846     9.234451  \n",
      "min      243.139998     2.08000     1.600000  \n",
      "25%     1873.557498    12.28000    20.800000  \n",
      "50%     3170.640000    20.16000    26.400000  \n",
      "75%     4608.217491    29.48000    32.800000  \n",
      "max    11451.179980    65.44000    45.600000  \n"
     ]
    }
   ],
   "source": [
    "train = pd.read_csv(\"./train_origin.csv\")\n",
    "test = pd.read_csv(\"./test_origin.csv\")\n",
    "train_id = train[\"train_id\"]\n",
    "target = train[\"dbh\"]\n",
    "train = train.drop([\"dbh\"],axis=1)\n",
    "test_id = test[\"test_id\"]\n",
    "print(train.describe())"
   ]
  },
  {
   "cell_type": "code",
   "execution_count": 14,
   "metadata": {},
   "outputs": [
    {
     "data": {
      "image/png": "[encoded data removed]",
      "text/plain": [
       "<Figure size 460.8x403.2 with 1 Axes>"
      ]
     },
     "metadata": {},
     "output_type": "display_data"
    }
   ],
   "source": [
    "import matplotlib.pyplot as plt\n",
    "x = target\n",
    "y = train[\"crown_perim\"]\n",
    "plt.scatter(x,y)\n",
    "plt.xlabel(\"dbh\")\n",
    "plt.ylabel(\"crown_perium\")\n",
    "plt.show()"
   ]
  },
  {
   "cell_type": "code",
   "execution_count": 29,
   "metadata": {
    "scrolled": true
   },
   "outputs": [
    {
     "name": "stdout",
     "output_type": "stream",
     "text": [
      "Intercept: 39.41024003707581\n",
      "Coefficients:  [-0.14080054  1.24570136 -0.37200332 -0.51979988 -3.09731026 -0.00388055\n",
      "  0.66071147 -0.05831429]\n",
      "[33.47946432 29.02981531 33.36194285 31.11884238 25.82534236 35.25769576\n",
      " 30.98553432 30.12379515 29.10828654 29.88213635 29.85262828 31.37117469\n",
      " 34.42663966 26.43075964 27.11911862 26.93855676 27.81035896 27.0479179\n",
      " 30.74030313 27.05299657 27.87331444 27.31655473 26.01703496 29.72003281\n",
      " 24.61038316]\n"
     ]
    }
   ],
   "source": [
    "from sklearn.linear_model import LinearRegression\n",
    "regr = LinearRegression(normalize=False)\n",
    "regr.fit(train,target)\n",
    "print(\"Intercept:\", regr.intercept_) #切片（定数項）\n",
    "print(\"Coefficients: \", regr.coef_) #xの係数\n",
    "predict = regr.predict(test)\n",
    "print(predict)\n",
    "\n",
    "# from sklearn.metrics import mean_squared_error\n",
    "# print(np.sqrt(mean_squared_error(predict,target)))"
   ]
  },
  {
   "cell_type": "code",
   "execution_count": 30,
   "metadata": {},
   "outputs": [],
   "source": [
    "pred = pd.DataFrame()\n",
    "pred[\"Id\"] = test[\"test_id\"]\n",
    "pred[\"dbh\"] = predict.round(2)\n",
    "pred.to_csv(\"DBH_SGDR1.csv\", index=False)"
   ]
  },
  {
   "cell_type": "code",
   "execution_count": null,
   "metadata": {},
   "outputs": [],
   "source": []
  }
 ],
 "metadata": {
  "kernelspec": {
   "display_name": "Python 3",
   "language": "python",
   "name": "python3"
  },
  "language_info": {
   "codemirror_mode": {
    "name": "ipython",
    "version": 3
   },
   "file_extension": ".py",
   "mimetype": "text/x-python",
   "name": "python",
   "nbconvert_exporter": "python",
   "pygments_lexer": "ipython3",
   "version": "3.7.5"
  }
 },
 "nbformat": 4,
 "nbformat_minor": 4
}
