{
 "cells": [
  {
   "cell_type": "code",
   "execution_count": 85,
   "metadata": {},
   "outputs": [],
   "source": [
    "import numpy as np\n",
    "import pandas as pd\n",
    "#for visualization\n",
    "import matplotlib.pyplot as plt\n",
    "import seaborn as sns\n",
    "from jupyterthemes import jtplot\n",
    "from sklearn.preprocessing import LabelEncoder\n",
    "from sklearn.model_selection import train_test_split\n",
    "jtplot.style(theme='monokai') \n",
    "pd.set_option('display.max_rows', 100)\n",
    "pd.set_option('display.max_columns', 100)\n",
    "\n",
    "# import data\n",
    "train = pd.read_csv(\"C:/Users/owner/Kaggle/HousePrice/train.csv\")\n",
    "test = pd.read_csv(\"C:/Users/owner/Kaggle/HousePrice/test.csv\")\n",
    "\n",
    "# Data Process------------------------------------------------\n",
    "# label encode\n",
    "for i in range(train.shape[1]):\n",
    "    if train.iloc[:,i].dtypes == object:\n",
    "        lbl = LabelEncoder()\n",
    "        lbl.fit(list(train.iloc[:,i].values) + list(test.iloc[:,i].values))\n",
    "        train.iloc[:,i] = lbl.transform(list(train.iloc[:,i].values))\n",
    "        test.iloc[:,i] = lbl.transform(list(test.iloc[:,i].values))\n",
    "# keep ID for submission\n",
    "train_ID = train['Id']\n",
    "test_ID = test['Id']\n",
    "# split data for training\n",
    "X = train.drop(['Id','SalePrice'], axis=1)\n",
    "Y = train['SalePrice']\n",
    "Z_test = test.drop('Id', axis=1)"
   ]
  },
  {
   "cell_type": "code",
   "execution_count": 86,
   "metadata": {},
   "outputs": [
    {
     "name": "stdout",
     "output_type": "stream",
     "text": [
      "(1168, 77) (292, 77) (1168,) (292,)\n"
     ]
    }
   ],
   "source": [
    "# dealing with missing data\n",
    "X = X.drop(['LotFrontage','MasVnrArea','GarageYrBlt'], axis=1)\n",
    "X = X.fillna(X.median())\n",
    "X[\"TotalSF\"] = X[\"TotalBsmtSF\"] + X[\"1stFlrSF\"] + X[\"2ndFlrSF\"]\n",
    "Z_test = Z_test.drop(['LotFrontage','MasVnrArea','GarageYrBlt'], axis=1)\n",
    "Z_test = Z_test.fillna(Z_test.median())\n",
    "Z_test[\"TotalSF\"] = Z_test[\"TotalBsmtSF\"] + Z_test[\"1stFlrSF\"] + Z_test[\"2ndFlrSF\"]\n",
    "# split data for train_train&test\n",
    "X_train, Y_train, X_target, Y_target = train_test_split(X,Y,random_state=0, test_size=0.2)\n",
    "print(X_train.shape, Y_train.shape, X_target.shape, Y_target.shape)"
   ]
  },
  {
   "cell_type": "code",
   "execution_count": 87,
   "metadata": {},
   "outputs": [],
   "source": [
    "# feature importance using random forest\n",
    "from sklearn.ensemble import RandomForestRegressor\n",
    "rf = RandomForestRegressor(n_estimators=100, max_features='auto')\n",
    "rf.fit(X_train, X_target)\n",
    "\n",
    "# make rankings\n",
    "use_lbl = 30\n",
    "ranking = np.argsort(-rf.feature_importances_)\n",
    "# f, ax = plt.subplots(figsize=(11, 7))\n",
    "# sns.barplot(x=rf.feature_importances_[ranking[:use_lbl]], y=X_train.columns.values[ranking[:30]])\n",
    "# ax.set_xlabel(\"feature importance\")\n",
    "# plt.tight_layout()\n",
    "# plt.show()\n",
    "X_train = X_train.iloc[:,ranking[:use_lbl]]\n",
    "Y_train = Y_train.iloc[:,ranking[:use_lbl]]"
   ]
  },
  {
   "cell_type": "code",
   "execution_count": 105,
   "metadata": {},
   "outputs": [
    {
     "ename": "ModuleNotFoundError",
     "evalue": "No module named 'xgboost'",
     "output_type": "error",
     "traceback": [
      "\u001b[1;31m---------------------------------------------------------------------------\u001b[0m",
      "\u001b[1;31mModuleNotFoundError\u001b[0m                       Traceback (most recent call last)",
      "\u001b[1;32m<ipython-input-105-f5757aa7d0b3>\u001b[0m in \u001b[0;36m<module>\u001b[1;34m\u001b[0m\n\u001b[0;32m      2\u001b[0m \u001b[1;32mfrom\u001b[0m \u001b[0msklearn\u001b[0m\u001b[1;33m.\u001b[0m\u001b[0mmodel_selection\u001b[0m \u001b[1;32mimport\u001b[0m \u001b[0mKFold\u001b[0m\u001b[1;33m,\u001b[0m \u001b[0mcross_val_score\u001b[0m\u001b[1;33m,\u001b[0m \u001b[0mtrain_test_split\u001b[0m\u001b[1;33m\u001b[0m\u001b[1;33m\u001b[0m\u001b[0m\n\u001b[0;32m      3\u001b[0m \u001b[1;32mfrom\u001b[0m \u001b[0msklearn\u001b[0m\u001b[1;33m.\u001b[0m\u001b[0mmetrics\u001b[0m \u001b[1;32mimport\u001b[0m \u001b[0mmean_squared_error\u001b[0m\u001b[1;33m\u001b[0m\u001b[1;33m\u001b[0m\u001b[0m\n\u001b[1;32m----> 4\u001b[1;33m \u001b[1;32mimport\u001b[0m \u001b[0mxgboost\u001b[0m \u001b[1;32mas\u001b[0m \u001b[0mxgb\u001b[0m\u001b[1;33m\u001b[0m\u001b[1;33m\u001b[0m\u001b[0m\n\u001b[0m\u001b[0;32m      5\u001b[0m \u001b[1;32mfrom\u001b[0m \u001b[0msklearn\u001b[0m\u001b[1;33m.\u001b[0m\u001b[0mmodel_selection\u001b[0m \u001b[1;32mimport\u001b[0m \u001b[0mGridSearchCV\u001b[0m\u001b[1;33m\u001b[0m\u001b[1;33m\u001b[0m\u001b[0m\n\u001b[0;32m      6\u001b[0m \u001b[1;32mimport\u001b[0m \u001b[0mlightgbm\u001b[0m \u001b[1;32mas\u001b[0m \u001b[0mlgb\u001b[0m\u001b[1;33m\u001b[0m\u001b[1;33m\u001b[0m\u001b[0m\n",
      "\u001b[1;31mModuleNotFoundError\u001b[0m: No module named 'xgboost'"
     ]
    }
   ],
   "source": [
    "from sklearn.ensemble import RandomForestRegressor,  GradientBoostingRegressor\n",
    "from sklearn.model_selection import KFold, cross_val_score, train_test_split\n",
    "from sklearn.metrics import mean_squared_error\n",
    "import xgboost as xgb\n",
    "from sklearn.model_selection import GridSearchCV\n",
    "import lightgbm as lgb\n",
    "X_target = np.log(X_target)\n",
    "Y_taeget = np.log(Y_target)\n",
    "# make predict_tree\n",
    "#特徴量と目的変数をxgboostのデータ構造に変換する\n",
    "dtrain = xgb.DMatrix(X_train, label=X_target)\n",
    "dvalid = xgb.DMatrix(Y_train,label=vY_target)\n",
    "#パラメータを指定してGBDT\n",
    "num_round = 5000\n",
    "evallist = [(dvalid, 'eval'), (dtrain, 'train')]\n",
    "evals_result = {}\n",
    "#パラメータ\n",
    "param = {\n",
    "            'max_depth': 3,\n",
    "            'eta': 0.01,\n",
    "            'objective': 'reg:squarederror',\n",
    "}\n",
    "#学習の実行\n",
    "bst = xgb.train(\n",
    "                        param, dtrain,\n",
    "                        num_round,\n",
    "                        evallist,\n",
    "                        evals_result=evals_result,\n",
    "                        # 一定ラウンド回しても改善が見込めない場合は学習を打ち切る\n",
    "                        early_stopping_rounds=1000\n",
    ")"
   ]
  },
  {
   "cell_type": "code",
   "execution_count": 94,
   "metadata": {},
   "outputs": [
    {
     "name": "stdout",
     "output_type": "stream",
     "text": [
      "[11.92437264 11.90158345 11.51292546 12.20607265 11.51292546 11.60367983\n",
      " 12.41543365 11.69107165 13.34550693 12.15451616 12.21849517 11.81303006\n",
      " 12.46843691 11.69441334 11.59910316 12.09514108 12.32363341 11.62625415\n",
      " 11.83500896 12.16002871 11.84904049 11.87756858 11.47729829 12.08953883\n",
      " 12.00150548 12.35233515 12.24047407 11.56171563 12.70350903 11.6784399\n",
      " 11.73606902 12.19095901 11.87583096 12.50617724 12.88664104 12.10071213\n",
      " 12.66191396 11.7829526  12.27839331 12.5776362  12.3779229  11.81303006\n",
      " 12.21849517 12.66032792 12.5776362  11.87687389 11.7745202  11.77528973\n",
      " 11.94470788 11.59917655 13.02132683 11.94145585 12.03469103 11.42409425\n",
      " 12.34147728 11.66134547 11.56171563 12.32385568 11.66992921 11.51292546\n",
      " 11.9797992  11.75978554 11.99380721 11.98292909 12.18586994 11.82407989\n",
      " 11.6307085  12.27932311 11.74403719 12.17818744 12.11996995 11.56171563\n",
      " 10.97678203 12.33569641 11.1124479  12.44901882 11.71177632 11.59917655\n",
      " 12.75995776 11.80559508 11.820116   11.75194237 12.09514108 11.90496755\n",
      " 11.48760766 12.27139211 11.74006104 12.21849517 11.86709728 11.76679219\n",
      " 12.24288662 12.01370075 12.21106019 12.25486281 12.15477935 11.91839057\n",
      " 12.39255221 12.31940133 11.69940503 11.80559508 12.52197768 12.14950229\n",
      " 11.53076538 11.90834024 11.58988651 12.47716791 11.9316358  11.70354582\n",
      " 12.31043266 11.47729829 11.19134184 11.6784399  12.25486281 11.51292546\n",
      " 11.98292909 11.90834024 12.84792653 11.80335376 12.09793049 12.54610995\n",
      " 12.23076526 12.01188092 11.60367983 12.23076526 12.53177279 12.39255221\n",
      " 12.84792653 12.07823927 12.19095901 12.03469103 12.46843691 12.18280402\n",
      " 12.14950229 12.25486281 11.57590026 12.4292162  11.81672692 12.22587527\n",
      " 11.59917655 12.1281111  11.87409031 11.8493977  12.31492705 11.88379913\n",
      " 11.87059991 12.229545   12.39255221 12.04941884 12.70350903 12.32829028\n",
      " 12.02574909 12.887127   12.66999847 12.46651198 11.71177632 12.8346813\n",
      " 11.58988651 12.20657252 11.84222921 12.0981533  11.60823564 11.8277362\n",
      " 12.1281111  11.60367983 12.38421883 11.91170158 11.9797992  12.72486644\n",
      " 12.27139211 12.08953883 12.03469103 11.92503512 12.08107616 12.16525065\n",
      " 11.65268741 11.76368418 11.75194237 12.4292162  11.86358234 11.8968264\n",
      " 12.88567095 12.19095901 11.60823564 12.65034813 11.85651517 12.00150548\n",
      " 11.38509209 12.23563145 12.43153351 11.88511408 11.90496755 12.01672647\n",
      " 12.3327053  11.81303006 11.84653647 11.90834024 11.51292546 11.8493977\n",
      " 12.01370075 11.73606902 11.75587164 12.41105223 11.68687877 11.59910316\n",
      " 11.8196746  12.14419724 11.7905572  12.76568843 12.34583459 10.97678203\n",
      " 11.92337811 12.35449265 11.44571672 11.28978191 12.69158046 12.53177279\n",
      " 11.96400108 12.6181823  12.3327053  11.42954386 12.34583459 11.97035031\n",
      " 11.44035477 11.60823564 12.16002871 12.52197768 12.33929149 12.36734079\n",
      " 11.75194237 12.04355372 11.44571672 12.06681058 11.58988651 11.85082525\n",
      " 12.25486281 11.44035477 11.8493977  11.28853113 11.40756495 12.24961095\n",
      " 11.68687877 12.14419724 12.27839331 12.32829028 12.03469103 12.28303369\n",
      " 12.41105223 12.26434155 11.54030714 12.22587527 12.1388639  12.54610995\n",
      " 11.44571672 12.84397135 12.27932311 12.45683136 11.3736634  12.06681058\n",
      " 12.95512746 12.12675884 12.46843691 11.6351431  11.91170158 11.34450681\n",
      " 13.04979268 12.70350903 12.90420737 11.19134184 12.32385568 12.36788533\n",
      " 11.44035477 11.9797992  11.9316358  12.25486281 11.66992921 12.37158708\n",
      " 12.08953883 12.06968002 12.27839331 11.74403719 11.87756858 12.79385931\n",
      " 11.56171563 11.90158345 12.18280402 11.53272809 11.69107165 12.56024446\n",
      " 13.53447303 11.91170158 10.858999   11.27720313]\n"
     ]
    }
   ],
   "source": [
    "print(Y_pred)"
   ]
  },
  {
   "cell_type": "code",
   "execution_count": 103,
   "metadata": {},
   "outputs": [
    {
     "ename": "AttributeError",
     "evalue": "'numpy.int64' object has no attribute 'iloc'",
     "output_type": "error",
     "traceback": [
      "\u001b[1;31m---------------------------------------------------------------------------\u001b[0m",
      "\u001b[1;31mAttributeError\u001b[0m                            Traceback (most recent call last)",
      "\u001b[1;32m<ipython-input-103-1720837cd1be>\u001b[0m in \u001b[0;36m<module>\u001b[1;34m\u001b[0m\n\u001b[1;32m----> 1\u001b[1;33m \u001b[0mY_target\u001b[0m \u001b[1;33m=\u001b[0m \u001b[0mY_target\u001b[0m\u001b[1;33m.\u001b[0m\u001b[0miloc\u001b[0m\u001b[1;33m[\u001b[0m\u001b[1;33m:\u001b[0m\u001b[1;33m,\u001b[0m\u001b[1;34m\"SalePrice\"\u001b[0m\u001b[1;33m]\u001b[0m\u001b[1;33m\u001b[0m\u001b[1;33m\u001b[0m\u001b[0m\n\u001b[0m\u001b[0;32m      2\u001b[0m \u001b[0mprint\u001b[0m\u001b[1;33m(\u001b[0m\u001b[0mY_target\u001b[0m\u001b[1;33m)\u001b[0m\u001b[1;33m\u001b[0m\u001b[1;33m\u001b[0m\u001b[0m\n",
      "\u001b[1;31mAttributeError\u001b[0m: 'numpy.int64' object has no attribute 'iloc'"
     ]
    }
   ],
   "source": [
    "Y_target = Y_target.iloc[:,\"SalePrice\"]\n",
    "print(Y_target)"
   ]
  },
  {
   "cell_type": "code",
   "execution_count": null,
   "metadata": {},
   "outputs": [],
   "source": [
    "from sklearn.metrics import mean_squared_error\n",
    "# prediction loss\n",
    "print(\"RMSE train : %f\" % np.sqrt(mean_squared_error(Y_target, Y_pred)))"
   ]
  },
  {
   "cell_type": "code",
   "execution_count": null,
   "metadata": {},
   "outputs": [],
   "source": [
    "\n",
    "\n",
    "Id = np.array(test[\"Id\"]).astype(int)\n",
    "my_solution = pd.DataFrame(np.exp(my_prediction), Id, columns = [\"SalePrice\"])\n",
    "my_solution.to_csv(\"my_prediction10.csv\", index_label = [\"Id\"])"
   ]
  }
 ],
 "metadata": {
  "kernelspec": {
   "display_name": "Python 3",
   "language": "python",
   "name": "python3"
  },
  "language_info": {
   "codemirror_mode": {
    "name": "ipython",
    "version": 3
   },
   "file_extension": ".py",
   "mimetype": "text/x-python",
   "name": "python",
   "nbconvert_exporter": "python",
   "pygments_lexer": "ipython3",
   "version": "3.7.5"
  }
 },
 "nbformat": 4,
 "nbformat_minor": 2
}
